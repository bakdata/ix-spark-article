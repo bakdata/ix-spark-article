{
 "metadata": {
  "name": "",
  "signature": "sha256:f3b72b2d1217e0780084449f731c89e9e6f3190ed963c167f8f194f08600a25a"
 },
 "nbformat": 3,
 "nbformat_minor": 0,
 "worksheets": [
  {
   "cells": [
    {
     "cell_type": "markdown",
     "metadata": {},
     "source": [
      "#Apache Spark Demo with Wikipedia Data\n",
      " - A script for demo purpose.\n",
      " - We load and transform Wikipedia revision and page information to examine Wikipedia\u2019s growth over time.\n",
      "\n",
      "#Prerequisits\n",
      " - Make iPython work with Spark: create ~/.ipython/profile_default/startup/00-pyspark-setup.py according to http://nbviewer.ipython.org/gist/fperez/6384491/00-Setup-IPython-PySpark.ipynb"
     ]
    },
    {
     "cell_type": "markdown",
     "metadata": {},
     "source": [
      "#Setup"
     ]
    },
    {
     "cell_type": "code",
     "collapsed": false,
     "input": [
      "%matplotlib inline\n",
      "import matplotlib.pyplot as plt\n",
      "import seaborn # install if not available or comment it out\n",
      "from csv import reader\n",
      "from bs4 import BeautifulSoup\n",
      "from datetime import datetime, time\n",
      "import dateutil.parser\n",
      "from itertools import islice\n",
      "import urllib\n",
      "from pyspark import SparkContext\n",
      "from pyspark.storagelevel import StorageLevel"
     ],
     "language": "python",
     "metadata": {},
     "outputs": [],
     "prompt_number": 1
    },
    {
     "cell_type": "code",
     "collapsed": false,
     "input": [
      "print CLUSTER_URL"
     ],
     "language": "python",
     "metadata": {},
     "outputs": [
      {
       "output_type": "stream",
       "stream": "stdout",
       "text": [
        "spark://ec2-your-machine.compute-1.amazonaws.com:7077\n"
       ]
      }
     ],
     "prompt_number": 2
    },
    {
     "cell_type": "code",
     "collapsed": false,
     "input": [
      "# create the Spark Context\n",
      "sc = SparkContext(CLUSTER_URL, 'this-ipython-notebook')\n",
      "# set where to find Python environment\n",
      "# necessity depends on environment, make sure path to python executable has mode 755\n",
      "sc.pythonExec = '/root/anaconda/bin/python'"
     ],
     "language": "python",
     "metadata": {},
     "outputs": [],
     "prompt_number": 3
    },
    {
     "cell_type": "markdown",
     "metadata": {},
     "source": [
      "Now check the Spark Application UI at the host above on port 8080."
     ]
    },
    {
     "cell_type": "markdown",
     "metadata": {},
     "source": [
      "#Test the Cluster"
     ]
    },
    {
     "cell_type": "code",
     "collapsed": true,
     "input": [
      "# upload some data\n",
      "data = sc.parallelize(range(1000), 10)\n",
      "# compute some squares\n",
      "data.map( lambda x : x*x ).collect();"
     ],
     "language": "python",
     "metadata": {},
     "outputs": []
    },
    {
     "cell_type": "markdown",
     "metadata": {},
     "source": [
      "#Create Helper Functions"
     ]
    },
    {
     "cell_type": "code",
     "collapsed": false,
     "input": [
      "## print 10 RDD entries\n",
      "def print10(rdd):\n",
      "    for l in rdd.take(10):\n",
      "        print l"
     ],
     "language": "python",
     "metadata": {},
     "outputs": [],
     "prompt_number": 4
    },
    {
     "cell_type": "code",
     "collapsed": false,
     "input": [
      "## convert line of csv file to list\n",
      "def csv_to_list(line):\n",
      "    if not line is None:\n",
      "        try:\n",
      "            return reader( [line] ).next() \n",
      "        except:\n",
      "            pass"
     ],
     "language": "python",
     "metadata": {},
     "outputs": [],
     "prompt_number": 5
    },
    {
     "cell_type": "code",
     "collapsed": false,
     "input": [
      "## convert a list to the revision tuple\n",
      "## we know the schema: rev_id, rev_page, rev_text_id, rev_comment, rev_user, rev_user_text, rev_timestamp, rev_minor_edit\n",
      "def list_to_revision_tuple( l, datetime_pattern ):\n",
      "    if not l is None:\n",
      "        try: \n",
      "            return [int(l[0]), int(l[1]), int(l[2]), l[3], None if l[4] is '' else int(l[4]), l[5], datetime.strptime( l[6], datetime_pattern ), int(l[7]) ]\n",
      "        except:\n",
      "            pass"
     ],
     "language": "python",
     "metadata": {},
     "outputs": [],
     "prompt_number": 6
    },
    {
     "cell_type": "code",
     "collapsed": false,
     "input": [
      "## convert a list to the page tuple\n",
      "## we know the schema\n",
      "def list_to_page_tuple( l ):\n",
      "    try:\n",
      "        return [int(l[0]), int(l[1]), l[2], l[3], long(l[4]), l[5], l[6], float(l[7]), datetime.strptime( l[8], '%Y%m%d%H%M%S' ), int(l[9]), int(l[10]) ]\n",
      "    except:\n",
      "        pass"
     ],
     "language": "python",
     "metadata": {},
     "outputs": [],
     "prompt_number": 7
    },
    {
     "cell_type": "markdown",
     "metadata": {},
     "source": [
      "#Ingest Wikipedia Revision Data\n",
      "Input XML example:\n",
      "```XML\n",
      "<page>\n",
      "  <title>August</title>\n",
      "  <ns>0</ns>\n",
      "  <id>2</id>\n",
      "  <revision>\n",
      "    <id>4360163</id>\n",
      "    <parentid>4198302</parentid>\n",
      "    <timestamp>2013-04-10T20:20:13Z</timestamp>\n",
      "    <contributor>\n",
      "      <username>MerlIwBot</username>\n",
      "      <id>172028</id>\n",
      "    </contributor>\n",
      "    <minor/>\n",
      "    <comment>Robot: some comment ...</comment>\n",
      "    <text id=\"4353086\" bytes=\"11466\" />\n",
      "    <sha1>phv2qhi0h3mxsgn5l171tpf0id44yil</sha1>\n",
      "    <model>wikitext</model>\n",
      "    <format>text/x-wiki</format>\n",
      "  </revision>\n",
      "</page>\n",
      "```"
     ]
    },
    {
     "cell_type": "markdown",
     "metadata": {},
     "source": [
      "##Create a script to consume XML subtrees, remove newlines, and write to stdout\n",
      "- using a cell magic here for creating a Python script on the local file system"
     ]
    },
    {
     "cell_type": "code",
     "collapsed": false,
     "input": [
      "%%file myscript.py\n",
      "#!/usr/bin/env python\n",
      "import urllib\n",
      "import sys\n",
      "url = sys.argv[1]\n",
      "f = urllib.URLopener().open( url )\n",
      "tmp=\"\"\n",
      "for line in f:\n",
      "    if '<page>' in line:\n",
      "        tmp = line\n",
      "    elif '</page>' in line:\n",
      "        tmp += line\n",
      "        tmp = tmp.replace('\\n','').replace('&quot;','') # deleting quotes to avoid trouble later \n",
      "        print tmp\n",
      "    elif '<page>' in tmp: # line did start already\n",
      "        tmp += line"
     ],
     "language": "python",
     "metadata": {},
     "outputs": []
    },
    {
     "cell_type": "code",
     "collapsed": false,
     "input": [
      "# make the script executable\n",
      "!chmod 700 myscript.py"
     ],
     "language": "python",
     "metadata": {},
     "outputs": []
    },
    {
     "cell_type": "markdown",
     "metadata": {},
     "source": [
      "- There are two options (for the above script) to pull the revisions from:\n",
      "1. the revision file is on your local file system\n",
      "2. the revision file resides in S3"
     ]
    },
    {
     "cell_type": "code",
     "collapsed": false,
     "input": [
      "# local\n",
      "#file_url = 'file:///root/simplewiki-20140623-stub-meta-current.xml' # only the latest revisions\n",
      "#file_url = 'file:///root/simplewiki-20140623-stub-meta-history.xml' # the revisions history\n",
      "# S3 # takes a while to read this\n",
      "file_url = 'https://s3.amazonaws.com/wikidemofiles/simplewiki/simplewiki-20140623-stub-meta-current-and-history.xml'\n",
      "\n",
      "out_path = 'hdfs:///current-and-history.xml'\n",
      "\n",
      "# run the script and pipe the output to hadoop's stdin, takes a while\n",
      "!./myscript.py {file_url} | /root/ephemeral-hdfs/bin/hadoop fs -put - {out_path}"
     ],
     "language": "python",
     "metadata": {},
     "outputs": []
    },
    {
     "cell_type": "code",
     "collapsed": false,
     "input": [
      "# create an RDD from revisions we just wrote to hdfs\n",
      "r = sc.textFile( out_path, 12 )"
     ],
     "language": "python",
     "metadata": {},
     "outputs": [],
     "prompt_number": 8
    },
    {
     "cell_type": "code",
     "collapsed": false,
     "input": [
      "# how many revision XML subtrees do we have?\n",
      "print r.count()\n",
      "# let's look at some of them (using our helper function).\n",
      "print10( r )"
     ],
     "language": "python",
     "metadata": {},
     "outputs": [
      {
       "output_type": "stream",
       "stream": "stdout",
       "text": [
        "658539\n",
        "  <page>    <title>April</title>    <ns>0</ns>    <id>1</id>    <revision>      <id>4784983</id>      <parentid>4657771</parentid>      <timestamp>2014-04-18T02:15:54Z</timestamp>      <contributor>        <ip>61.199.127.79</ip>      </contributor>      <comment>made the grammar better</comment>      <text id=\"4786463\" bytes=\"20239\" />      <sha1>jk9e5is1yxp1resnscpooes74s5fnc1</sha1>      <model>wikitext</model>      <format>text/x-wiki</format>    </revision>  </page>"
       ]
      },
      {
       "output_type": "stream",
       "stream": "stdout",
       "text": [
        "\n",
        "  <page>    <title>August</title>    <ns>0</ns>    <id>2</id>    <revision>      <id>4360163</id>      <parentid>4198302</parentid>      <timestamp>2013-04-10T20:20:13Z</timestamp>      <contributor>        <username>MerlIwBot</username>        <id>172028</id>      </contributor>      <minor/>      <comment>Robot: Removing [[ang:\u01f7\u0113odm\u014dna\u00fe]] (strong connection between (2) [[simple:August]] and [[ang:W\u0113odm\u014dna\u00fe]])</comment>      <text id=\"4353086\" bytes=\"11466\" />      <sha1>phv2qhi0h3mxsgn5l171tpf0id44yil</sha1>      <model>wikitext</model>      <format>text/x-wiki</format>    </revision>  </page>\n",
        "  <page>    <title>User:Angela</title>    <ns>2</ns>    <id>3</id>    <restrictions>edit=autoconfirmed:move=autoconfirmed</restrictions>    <revision>      <id>1207184</id>      <parentid>1034137</parentid>      <timestamp>2008-12-07T18:26:55Z</timestamp>      <contributor>        <username>JAnDbot</username>        <id>4575</id>      </contributor>      <minor/>      <comment>robot  Adding: bg, ca, cs, cy, da, de, eo, es, fi, fr, he, ia, id, it, ja, jbo, km, ko, nl, nn, no, pl, pt, ro, ru, sl, sr, sv, th, uk, vi, zh</comment>      <text id=\"1198142\" bytes=\"982\" />      <sha1>8q0t3e4zwkxikjebev4a83f8kjdq25c</sha1>      <model>wikitext</model>      <format>text/x-wiki</format>    </revision>  </page>\n",
        "  <page>    <title>User talk:Angela</title>    <ns>3</ns>    <id>4</id>    <restrictions>move=sysop</restrictions>    <revision>      <id>4572545</id>      <parentid>4572506</parentid>      <timestamp>2013-09-29T01:11:42Z</timestamp>      <contributor>        <username>Chenzw</username>        <id>8630</id>      </contributor>      <minor/>      <comment>[[Help:Revert a page|Reverted]] edits by [[Special:Contributions/2602:304:AF53:3E99:B931:A228:4CC5:AFB5|2602:304:AF53:3E99:B931:A228:4CC5:AFB5]] ([[User talk:2602:304:AF53:3E99:B931:A228:4CC5:AFB5|talk]]) to last version by Chenzw</comment>      <text id=\"4568137\" bytes=\"58\" />      <sha1>dwlmj3j0os3jiyxw22fz22354s0o3uc</sha1>      <model>wikitext</model>      <format>text/x-wiki</format>    </revision>  </page>\n",
        "  <page>    <title>User:Anthere</title>    <ns>2</ns>    <id>5</id>    <revision>      <id>36363</id>      <parentid>9644</parentid>      <timestamp>2004-06-14T21:04:13Z</timestamp>      <contributor>        <username>Anthere</username>        <id>41</id>      </contributor>      <text id=\"36363\" bytes=\"234\" />      <sha1>4n9a5bxty3sg9v1lqzshdhcqypoule1</sha1>      <model>wikitext</model>      <format>text/x-wiki</format>    </revision>  </page>\n",
        "  <page>    <title>Art</title>    <ns>0</ns>    <id>6</id>    <revision>      <id>4831012</id>      <parentid>4817692</parentid>      <timestamp>2014-06-20T13:31:55Z</timestamp>      <contributor>        <username>Robinart40</username>        <id>369620</id>      </contributor>      <minor/>      <comment>/* History of art */</comment>      <text id=\"4834903\" bytes=\"6269\" />      <sha1>10stzgol9e3vxakp7gm4p7unlt6u2yl</sha1>      <model>wikitext</model>      <format>text/x-wiki</format>    </revision>  </page>\n",
        "  <page>    <title>A</title>    <ns>0</ns>    <id>8</id>    <revision>      <id>4829701</id>      <parentid>4829700</parentid>      <timestamp>2014-06-18T16:30:26Z</timestamp>      <contributor>        <ip>64.6.124.31</ip>      </contributor>      <comment>Expanded slightly</comment>      <text id=\"4833532\" bytes=\"2716\" />      <sha1>sbg9ti0tehn6ok5s6rj289snjn9se1e</sha1>      <model>wikitext</model>      <format>text/x-wiki</format>    </revision>  </page>\n",
        "  <page>    <title>Air</title>    <ns>0</ns>    <id>9</id>    <revision>      <id>4825349</id>      <parentid>4805051</parentid>      <timestamp>2014-06-12T11:26:26Z</timestamp>      <contributor>        <ip>135.196.127.94</ip>      </contributor>      <text id=\"4828953\" bytes=\"1803\" />      <sha1>gja8ydrtv6xu624hxu28795ngwo9cpo</sha1>      <model>wikitext</model>      <format>text/x-wiki</format>    </revision>  </page>\n",
        "  <page>    <title>Wikipedia:Administrators</title>    <ns>4</ns>    <id>11</id>    <revision>      <id>4833124</id>      <parentid>4829686</parentid>      <timestamp>2014-06-23T12:35:25Z</timestamp>      <contributor>        <username>Djsasso</username>        <id>18539</id>      </contributor>      <comment>/* List of administrators */  asked for removal</comment>      <text id=\"4837128\" bytes=\"12177\" />      <sha1>2c3jepvryzm1d8wj8ed1k48zkth6a6a</sha1>      <model>wikitext</model>      <format>text/x-wiki</format>    </revision>  </page>\n",
        "  <page>    <title>Autonomous communities of Spain</title>    <ns>0</ns>    <id>12</id>    <revision>      <id>4791914</id>      <parentid>4771212</parentid>      <timestamp>2014-04-26T22:26:25Z</timestamp>      <contributor>        <username>Llightex</username>        <id>148550</id>      </contributor>      <minor/>      <comment>grammar</comment>      <text id=\"4793620\" bytes=\"2640\" />      <sha1>8gyssvhnerksnw88yxxjdtg8mc793zc</sha1>      <model>wikitext</model>      <format>text/x-wiki</format>    </revision>  </page>\n"
       ]
      }
     ],
     "prompt_number": 9
    },
    {
     "cell_type": "markdown",
     "metadata": {},
     "source": [
      "#Explore Data"
     ]
    },
    {
     "cell_type": "code",
     "collapsed": false,
     "input": [
      "# draw 0.1% sample\n",
      "# sample = r.sample(False, 0.01, 2)\n",
      "# draw a fixed size sample\n",
      "sample = r.takeSample(False, 5, 2)"
     ],
     "language": "python",
     "metadata": {},
     "outputs": []
    },
    {
     "cell_type": "code",
     "collapsed": false,
     "input": [
      "# do some pretty printing to look at the data again\n",
      "for xml in sample:\n",
      "    print BeautifulSoup( xml ).prettify()"
     ],
     "language": "python",
     "metadata": {},
     "outputs": []
    },
    {
     "cell_type": "markdown",
     "metadata": {},
     "source": [
      "#Transform Revision Data"
     ]
    },
    {
     "cell_type": "code",
     "collapsed": false,
     "input": [
      "# function to convert revision XML to CSV\n",
      "# the generated schema is close to MediaWiki's MWDumper output:\n",
      "# rev_id, rev_page, rev_text_id, rev_comment, rev_user, rev_user_text, rev_timestamp, rev_minor_edit\n",
      "\n",
      "def xml_to_csv(xml):\n",
      "    result = []\n",
      "    soup = BeautifulSoup( xml )            # parse XML with BeautifulSoup\n",
      "    for p in soup.find_all('page'):        # for all <page> subtrees\n",
      "        i = p.id.string\n",
      "        for rev in p.find_all('revision'): # process subtrees, grab revision id, comments, etc.\n",
      "            try:\n",
      "                r = '%(rev_id)s,%(page_id)s,%(rev_text_id)s,\"%(rev_comment)s\",%(rev_user)s,\"%(rev_user_text)s\",%(rev_timestamp)s,%(rev_minor_edit)s' % \\\n",
      "                    {\"rev_id\"          : rev.id.string,\n",
      "                     \"page_id\"         : i,\n",
      "                     \"rev_text_id\"     : rev.find('text').get('id', ''),\n",
      "                     \"rev_comment\"     : (rev.comment.string              if rev.find('comment')  else ''),\n",
      "                     \"rev_user\"        : (rev.contributor.id.string       if rev.find('contributor').find('id') else ''),\n",
      "                     \"rev_user_text\"   : (rev.contributor.username.string if rev.find('username') else rev.contributor.ip.string),\n",
      "                     \"rev_timestamp\"   : (rev.timestamp.string            if rev.find('timestamp') else ''),\n",
      "                     \"rev_minor_edit\"  : (1 if rev.find('minor') else 0) }\n",
      "                result.append(r)\n",
      "            except:\n",
      "                print 'Some parsing error ...'\n",
      "                continue\n",
      "    return result"
     ],
     "language": "python",
     "metadata": {},
     "outputs": [],
     "prompt_number": 10
    },
    {
     "cell_type": "code",
     "collapsed": true,
     "input": [
      "r = r.flatMap(xml_to_csv)\n",
      "print10( r )"
     ],
     "language": "python",
     "metadata": {},
     "outputs": [
      {
       "output_type": "stream",
       "stream": "stdout",
       "text": [
        "4784983,1,4786463,\"made the grammar better\",,\"61.199.127.79\",2014-04-18T02:15:54Z,0\n",
        "4360163,2,4353086,\"Robot: Removing [[ang:\u01f7\u0113odm\u014dna\u00fe]] (strong connection between (2) [[simple:August]] and [[ang:W\u0113odm\u014dna\u00fe]])\",172028,\"MerlIwBot\",2013-04-10T20:20:13Z,1\n",
        "1207184,3,1198142,\"robot  Adding: bg, ca, cs, cy, da, de, eo, es, fi, fr, he, ia, id, it, ja, jbo, km, ko, nl, nn, no, pl, pt, ro, ru, sl, sr, sv, th, uk, vi, zh\",4575,\"JAnDbot\",2008-12-07T18:26:55Z,1\n",
        "4572545,4,4568137,\"[[Help:Revert a page|Reverted]] edits by [[Special:Contributions/2602:304:AF53:3E99:B931:A228:4CC5:AFB5|2602:304:AF53:3E99:B931:A228:4CC5:AFB5]] ([[User talk:2602:304:AF53:3E99:B931:A228:4CC5:AFB5|talk]]) to last version by Chenzw\",8630,\"Chenzw\",2013-09-29T01:11:42Z,1\n",
        "36363,5,36363,\"\",41,\"Anthere\",2004-06-14T21:04:13Z,0\n",
        "4831012,6,4834903,\"/* History of art */\",369620,\"Robinart40\",2014-06-20T13:31:55Z,1\n",
        "4829701,8,4833532,\"Expanded slightly\",,\"64.6.124.31\",2014-06-18T16:30:26Z,0\n",
        "4825349,9,4828953,\"\",,\"135.196.127.94\",2014-06-12T11:26:26Z,0\n",
        "4833124,11,4837128,\"/* List of administrators */  asked for removal\",18539,\"Djsasso\",2014-06-23T12:35:25Z,0\n",
        "4791914,12,4793620,\"grammar\",148550,\"Llightex\",2014-04-26T22:26:25Z,1\n"
       ]
      }
     ],
     "prompt_number": 11
    },
    {
     "cell_type": "code",
     "collapsed": false,
     "input": [
      "# write csv data to HDFS (takes a moment)\n",
      "path='hdfs:///simplewiki-csv'\n",
      "r.saveAsTextFile(path)"
     ],
     "language": "python",
     "metadata": {},
     "outputs": []
    },
    {
     "cell_type": "code",
     "collapsed": false,
     "input": [
      "# convert csv line to list, create typed tuples, remove None values\n",
      "r = r.map( csv_to_list ).map( lambda x: list_to_revision_tuple(x,'%Y-%m-%dT%H:%M:%SZ') ).filter(lambda x: not x is None)\n",
      "print10( r )"
     ],
     "language": "python",
     "metadata": {},
     "outputs": [
      {
       "output_type": "stream",
       "stream": "stdout",
       "text": [
        "[4784983, 1, 4786463, 'made the grammar better', None, '61.199.127.79', datetime.datetime(2014, 4, 18, 2, 15, 54), 0]\n",
        "[1207184, 3, 1198142, 'robot  Adding: bg, ca, cs, cy, da, de, eo, es, fi, fr, he, ia, id, it, ja, jbo, km, ko, nl, nn, no, pl, pt, ro, ru, sl, sr, sv, th, uk, vi, zh', 4575, 'JAnDbot', datetime.datetime(2008, 12, 7, 18, 26, 55), 1]\n",
        "[4572545, 4, 4568137, '[[Help:Revert a page|Reverted]] edits by [[Special:Contributions/2602:304:AF53:3E99:B931:A228:4CC5:AFB5|2602:304:AF53:3E99:B931:A228:4CC5:AFB5]] ([[User talk:2602:304:AF53:3E99:B931:A228:4CC5:AFB5|talk]]) to last version by Chenzw', 8630, 'Chenzw', datetime.datetime(2013, 9, 29, 1, 11, 42), 1]\n",
        "[36363, 5, 36363, '', 41, 'Anthere', datetime.datetime(2004, 6, 14, 21, 4, 13), 0]\n",
        "[4831012, 6, 4834903, '/* History of art */', 369620, 'Robinart40', datetime.datetime(2014, 6, 20, 13, 31, 55), 1]\n",
        "[4829701, 8, 4833532, 'Expanded slightly', None, '64.6.124.31', datetime.datetime(2014, 6, 18, 16, 30, 26), 0]\n",
        "[4825349, 9, 4828953, '', None, '135.196.127.94', datetime.datetime(2014, 6, 12, 11, 26, 26), 0]\n",
        "[4833124, 11, 4837128, '/* List of administrators */  asked for removal', 18539, 'Djsasso', datetime.datetime(2014, 6, 23, 12, 35, 25), 0]\n",
        "[4791914, 12, 4793620, 'grammar', 148550, 'Llightex', datetime.datetime(2014, 4, 26, 22, 26, 25), 1]\n",
        "[4686516, 13, 4684821, '[[Help:Revert a page|Reverted]] edits by [[Special:Contributions/205.215.222.138|205.215.222.138]] ([[User talk:205.215.222.138|talk]]) to last version by TDKR Chicago 101', 160517, 'Mh7kJ', datetime.datetime(2014, 1, 9, 20, 39, 25), 1]\n"
       ]
      }
     ],
     "prompt_number": 12
    },
    {
     "cell_type": "code",
     "collapsed": false,
     "input": [
      "r.cache() # takes a moment on a three-node cluster\n",
      "r.count() # revision tuples"
     ],
     "language": "python",
     "metadata": {},
     "outputs": [
      {
       "metadata": {},
       "output_type": "pyout",
       "prompt_number": 15,
       "text": [
        "3114805"
       ]
      }
     ],
     "prompt_number": 15
    },
    {
     "cell_type": "markdown",
     "metadata": {},
     "source": [
      "#Ingest Page Data\n",
      "- There are (at least) two options:\n",
      "1. download from s3 with ``urllib.urlretrieve`` and then distribute to all cluster nodes with ``~/spark-ec2/copy-dir``\n",
      "   - this is not efficient for large files\n",
      "2. directly read from s3 with ``s3n://mybucket/myfolder/myfile``\n",
      "   - needs aws access key and secret access key in ``~/spark/conf/core-site.xml`` and ``~/ephemeral-hdfs/conf/core-site.xml``\n",
      "   - see ``fs.s3n.awsAccessKeyId`` and ``fs.s3n.awsSecretAccessKey``"
     ]
    },
    {
     "cell_type": "code",
     "collapsed": false,
     "input": [
      "# Option (1)\n",
      "# works without AWS Access Key ID and Secret Access Key in environment\n",
      "# download Wikipedia page data as CSV from s3 to master and then distribute\n",
      "urllib.urlretrieve('https://s3.amazonaws.com/wikidemofiles/simplewiki/page.csv', '/root/page.csv')\n",
      "!~/spark-ec2/copy-dir /root/page.csv\n",
      "!ls -lisah /root/page.csv"
     ],
     "language": "python",
     "metadata": {},
     "outputs": []
    },
    {
     "cell_type": "code",
     "collapsed": false,
     "input": [
      "# Option (1) continued, load file\n",
      "path='file:///root/page.csv'\n",
      "p = sc.textFile(path, 10)\n",
      "print10( p ) "
     ],
     "language": "python",
     "metadata": {},
     "outputs": [
      {
       "output_type": "stream",
       "stream": "stdout",
       "text": [
        "\"1\",\"0\",\"April\",,\"0\",\"0\",\"0\",\"0.4151305625356087\",\"20140711163954\",\"4784983\",\"0\"\n",
        "\"2\",\"0\",\"August\",,\"0\",\"0\",\"0\",\"0.9324242704849917\",\"20140711163954\",\"4360163\",\"0\"\n",
        "\"3\",\"2\",\"Angela\",\"edit=autoconfirmed:move=autoconfirmed\",\"0\",\"0\",\"0\",\"0.41672969555177697\",\"20140711163954\",\"1207184\",\"0\"\n",
        "\"4\",\"3\",\"Angela\",\"move=sysop\",\"0\",\"0\",\"0\",\"0.286375697037555\",\"20140711163954\",\"4572545\",\"0\"\n",
        "\"5\",\"2\",\"Anthere\",,\"0\",\"0\",\"0\",\"0.18168942926608905\",\"20140711163954\",\"36363\",\"0\"\n",
        "\"6\",\"0\",\"Art\",,\"0\",\"0\",\"0\",\"0.049320085951425216\",\"20140711163954\",\"4831012\",\"0\"\n",
        "\"8\",\"0\",\"A\",,\"0\",\"0\",\"0\",\"0.7015321726925039\",\"20140711163954\",\"4829701\",\"0\"\n",
        "\"9\",\"0\",\"Air\",,\"0\",\"0\",\"0\",\"0.35970063634188904\",\"20140711163954\",\"4825349\",\"0\"\n",
        "\"11\",\"4\",\"Administrators\",,\"0\",\"0\",\"0\",\"0.6939066943655784\",\"20140711163954\",\"4833124\",\"0\"\n",
        "\"12\",\"0\",\"Autonomous_communities_of_Spain\",,\"0\",\"0\",\"0\",\"0.3904315935358699\",\"20140711163954\",\"4791914\",\"0\"\n"
       ]
      }
     ],
     "prompt_number": 16
    },
    {
     "cell_type": "code",
     "collapsed": true,
     "input": [
      "# Option (2)\n",
      "# needs your AWS Access Key ID and Secret Access Key\n",
      "path='s3n://wikidemofiles/simplewiki/page.csv'\n",
      "p = sc.textFile(path)\n",
      "print10( p ) "
     ],
     "language": "python",
     "metadata": {},
     "outputs": []
    },
    {
     "cell_type": "code",
     "collapsed": false,
     "input": [
      "# convert csv line to list and then to tuple\n",
      "p = p.map( csv_to_list ).map( list_to_page_tuple )\n",
      "print10( p )"
     ],
     "language": "python",
     "metadata": {},
     "outputs": [
      {
       "output_type": "stream",
       "stream": "stdout",
       "text": [
        "[1, 0, 'April', '', 0L, '0', '0', 0.4151305625356087, datetime.datetime(2014, 7, 11, 16, 39, 54), 4784983, 0]\n",
        "[2, 0, 'August', '', 0L, '0', '0', 0.9324242704849917, datetime.datetime(2014, 7, 11, 16, 39, 54), 4360163, 0]\n",
        "[3, 2, 'Angela', 'edit=autoconfirmed:move=autoconfirmed', 0L, '0', '0', 0.41672969555177697, datetime.datetime(2014, 7, 11, 16, 39, 54), 1207184, 0]\n",
        "[4, 3, 'Angela', 'move=sysop', 0L, '0', '0', 0.286375697037555, datetime.datetime(2014, 7, 11, 16, 39, 54), 4572545, 0]\n",
        "[5, 2, 'Anthere', '', 0L, '0', '0', 0.18168942926608905, datetime.datetime(2014, 7, 11, 16, 39, 54), 36363, 0]\n",
        "[6, 0, 'Art', '', 0L, '0', '0', 0.049320085951425216, datetime.datetime(2014, 7, 11, 16, 39, 54), 4831012, 0]\n",
        "[8, 0, 'A', '', 0L, '0', '0', 0.7015321726925039, datetime.datetime(2014, 7, 11, 16, 39, 54), 4829701, 0]\n",
        "[9, 0, 'Air', '', 0L, '0', '0', 0.35970063634188904, datetime.datetime(2014, 7, 11, 16, 39, 54), 4825349, 0]\n",
        "[11, 4, 'Administrators', '', 0L, '0', '0', 0.6939066943655784, datetime.datetime(2014, 7, 11, 16, 39, 54), 4833124, 0]\n",
        "[12, 0, 'Autonomous_communities_of_Spain', '', 0L, '0', '0', 0.3904315935358699, datetime.datetime(2014, 7, 11, 16, 39, 54), 4791914, 0]\n"
       ]
      }
     ],
     "prompt_number": 17
    },
    {
     "cell_type": "code",
     "collapsed": false,
     "input": [
      "p.cache()\n",
      "p.count() # page tuples"
     ],
     "language": "python",
     "metadata": {},
     "outputs": [
      {
       "metadata": {},
       "output_type": "pyout",
       "prompt_number": 18,
       "text": [
        "329126"
       ]
      }
     ],
     "prompt_number": 18
    },
    {
     "cell_type": "markdown",
     "metadata": {},
     "source": [
      "#Query: Evolution\n",
      "- article revisions and distinct user count by month\n",
      "- we handle revisions first"
     ]
    },
    {
     "cell_type": "code",
     "collapsed": false,
     "input": [
      "r_projected  = r.map( lambda x: (x[6].strftime(\"%Y%m\"), x[0])) # (month, revision) pairs\n",
      "print10(r_projected)"
     ],
     "language": "python",
     "metadata": {},
     "outputs": [
      {
       "output_type": "stream",
       "stream": "stdout",
       "text": [
        "('201404', 4784983)\n",
        "('200812', 1207184)\n",
        "('201309', 4572545)\n",
        "('200406', 36363)\n",
        "('201406', 4831012)\n",
        "('201406', 4829701)\n",
        "('201406', 4825349)\n",
        "('201406', 4833124)\n",
        "('201404', 4791914)\n",
        "('201401', 4686516)\n"
       ]
      }
     ],
     "prompt_number": 19
    },
    {
     "cell_type": "code",
     "collapsed": false,
     "input": [
      "count_for_rev = r_projected.countByKey() # count the number of elements for each month (the key)\n",
      "for i in islice(count_for_rev.iteritems(), 10): print i # output"
     ],
     "language": "python",
     "metadata": {},
     "outputs": [
      {
       "output_type": "stream",
       "stream": "stdout",
       "text": [
        "('200211', 8)\n",
        "('200606', 14289)\n",
        "('200509', 5662)\n",
        "('200508', 7605)\n",
        "('200505', 4726)\n",
        "('200504', 3024)\n",
        "('200507', 8731)\n",
        "('200506', 7549)\n",
        "('200501', 2612)\n",
        "('200503', 2875)\n"
       ]
      }
     ],
     "prompt_number": 20
    },
    {
     "cell_type": "markdown",
     "metadata": {},
     "source": [
      "It is a little more complex for users, since we want _distinct_ users."
     ]
    },
    {
     "cell_type": "code",
     "collapsed": false,
     "input": [
      "user_projected = r.map( lambda x: (x[6].strftime('%Y%m'), x[4])) # (month, user) pairs\n",
      "print10(user_projected)"
     ],
     "language": "python",
     "metadata": {},
     "outputs": [
      {
       "output_type": "stream",
       "stream": "stdout",
       "text": [
        "('201404', None)\n",
        "('200812', 4575)\n",
        "('201309', 8630)\n",
        "('200406', 41)\n",
        "('201406', 369620)\n",
        "('201406', None)\n",
        "('201406', None)\n",
        "('201406', 18539)\n",
        "('201404', 148550)\n",
        "('201401', 160517)\n"
       ]
      }
     ],
     "prompt_number": 21
    },
    {
     "cell_type": "code",
     "collapsed": false,
     "input": [
      "# returns a list of users per month\n",
      "user_grouped = user_projected.groupByKey() \n",
      "# set(..) computes distinct users, len(..) gives number of users\n",
      "user_count = user_grouped.mapValues(lambda x: len(set(x)))\n",
      "print10(user_count)"
     ],
     "language": "python",
     "metadata": {},
     "outputs": [
      {
       "output_type": "stream",
       "stream": "stdout",
       "text": [
        "('200407', 78)\n",
        "('200509', 151)\n",
        "('201405', 521)\n",
        "('201304', 582)\n",
        "('200803', 567)\n",
        "('200604', 285)\n",
        "('200212', 3)\n",
        "('201109', 637)\n",
        "('200911', 819)\n",
        "('200306', 7)\n"
       ]
      }
     ],
     "prompt_number": 23
    },
    {
     "cell_type": "code",
     "collapsed": false,
     "input": [
      "# get a local copy\n",
      "users_local = user_count.collectAsMap()"
     ],
     "language": "python",
     "metadata": {},
     "outputs": [],
     "prompt_number": 24
    },
    {
     "cell_type": "code",
     "collapsed": false,
     "input": [
      "month2rev = sorted( [ (int(k),v) for k,v in count_for_rev.iteritems() ] )\n",
      "months2user = sorted( [ (int(k),v) for k,v in users_local.iteritems() ] )"
     ],
     "language": "python",
     "metadata": {},
     "outputs": [],
     "prompt_number": 25
    },
    {
     "cell_type": "code",
     "collapsed": false,
     "input": [
      "# plot a figure\n",
      "plt.plot([v for k,v in month2rev], label='revisions')\n",
      "plt.plot([v for k,v in months2user], label='users')\n",
      "plt.legend()\n",
      "plt.xlabel('time')\n",
      "plt.ylabel('count')\n",
      "plt.title('revisions and users over time')\n",
      "plt.yscale('log');\n",
      "tix = range(len(month2rev))[::24]\n",
      "plt.xticks( tix, [month2rev[i][0] for i in tix] );"
     ],
     "language": "python",
     "metadata": {},
     "outputs": [
      {
       "metadata": {},
       "output_type": "display_data",
       "png": "[encoded data removed]",
       "text": [
        "<matplotlib.figure.Figure at 0x7f74206c5f10>"
       ]
      }
     ],
     "prompt_number": 26
    },
    {
     "cell_type": "markdown",
     "metadata": {},
     "source": [
      "#Query: Top 100 revised Article Titles"
     ]
    },
    {
     "cell_type": "code",
     "collapsed": false,
     "input": [
      "p_projected = p.filter( lambda x : not x is None).map( lambda x: (x[0], x[2]) ) # (page id, title) pairs\n",
      "r_projected  = r.map( lambda x: (x[1], x[0]) )                                  # (page id, rev id) pairs"
     ],
     "language": "python",
     "metadata": {},
     "outputs": [],
     "prompt_number": 27
    },
    {
     "cell_type": "code",
     "collapsed": false,
     "input": [
      "# Option -1-\n",
      "#def createCombiner(value):\n",
      "#    return 1\n",
      "#def mergeValue(combiner, value):\n",
      "#    return combiner += 1\n",
      "#def mergeCombiners(combiner1, combiner2):\n",
      "#    return combiner1+combiner2\n",
      "#rev_grouped = r_projected.combineByKey(createCombiner, mergeValue, mergeCombiners)\n",
      "\n",
      "### equivalent to ###\n",
      "r_count = r_projected.combineByKey(lambda v : 1, lambda c, v : c+1, lambda c1, c2 : c1+c2)"
     ],
     "language": "python",
     "metadata": {},
     "outputs": [],
     "prompt_number": 28
    },
    {
     "cell_type": "code",
     "collapsed": true,
     "input": [
      "# Option -2-\n",
      "r_count = r_projected.groupByKey().mapValues( len )           # (page id, rev count)"
     ],
     "language": "python",
     "metadata": {},
     "outputs": []
    },
    {
     "cell_type": "code",
     "collapsed": false,
     "input": [
      "joined = r_count.join( p_projected )\n",
      "joined = joined.map( lambda x: x[1] ) # join and keep only (rev count, page title) pairs\n",
      "joined = joined.sortByKey(False)\n",
      "joined.take(100)"
     ],
     "language": "python",
     "metadata": {},
     "outputs": [
      {
       "metadata": {},
       "output_type": "pyout",
       "prompt_number": 29,
       "text": [
        "[(308, 'Aaqib'),\n",
        " (300, 'Eptalon'),\n",
        " (296, 'Pornography'),\n",
        " (293, 'Griffinofwales'),\n",
        " (289, 'Yottie'),\n",
        " (287, 'Cuban_Missile_Crisis'),\n",
        " (287, 'Air'),\n",
        " (286, 'Main_Page/Archive4'),\n",
        " (285, 'Rainforest'),\n",
        " (284, 'The_Rambling_Man'),\n",
        " (283, 'Human'),\n",
        " (281, 'History_of_Australia'),\n",
        " (280, 'Cincinnati_Zoo_and_Botanical_Garden'),\n",
        " (279, 'Battle_of_the_Somme'),\n",
        " (278, '2006'),\n",
        " (277, 'Northern_League_(baseball)'),\n",
        " (275, 'Cite_web'),\n",
        " (275, 'Animal'),\n",
        " (274, 'Dit_Clapper'),\n",
        " (272, 'EhJBot2/Log'),\n",
        " (270, 'Barliner/archive6'),\n",
        " (270, 'New_York_City'),\n",
        " (266, 'Swag_(album)'),\n",
        " (265, 'Gadget-Twinkle.js'),\n",
        " (264, 'Light_bulb'),\n",
        " (263, 'Microsoft_Windows'),\n",
        " (260, 'Gwib'),\n",
        " (258, 'IanP'),\n",
        " (258, 'List_of_communities_in_Nova_Scotia'),\n",
        " (257, 'Afghanistan'),\n",
        " (255, 'Xbox'),\n",
        " (253, 'Roman_Empire'),\n",
        " (250, 'Basketball'),\n",
        " (248, 'Thrasymedes'),\n",
        " (248, 'EvillyG00d'),\n",
        " (247, 'Quantum_mechanics'),\n",
        " (247, 'Automobiles_of_the_1920s'),\n",
        " (246, 'My_Chemical_Romance'),\n",
        " (246, 'Web_colors'),\n",
        " (245, 'Great_Barrier_Reef'),\n",
        " (244, 'CRRaysHead90'),\n",
        " (244, 'Sir_James_Paul'),\n",
        " (242, 'Navbar'),\n",
        " (242, 'Brain'),\n",
        " (240, 'Grand_Duchess_Anastasia_Nikolaevna_of_Russia'),\n",
        " (239, 'Swan_Lake'),\n",
        " (238, 'Call_of_Duty_series'),\n",
        " (238, 'Aphrodite'),\n",
        " (238, 'Large_Hadron_Collider'),\n",
        " (237, 'Jupiter'),\n",
        " (237, 'A'),\n",
        " (237, 'Adminstats/Djsasso'),\n",
        " (234, 'Manchester'),\n",
        " (234, 'Magenta'),\n",
        " (231, 'Architecture'),\n",
        " (230, 'Halloween'),\n",
        " (230, '1996'),\n",
        " (228, 'Muppet_films'),\n",
        " (227, 'Blue'),\n",
        " (225, 'List_of_surviving_veterans_of_World_War_I'),\n",
        " (225, 'WWE_Raw'),\n",
        " (224, 'Central_processing_unit'),\n",
        " (224, 'PiRSquared17/Status'),\n",
        " (223, 'EhJBot5/wordlist'),\n",
        " (223, 'StaticFalcon'),\n",
        " (223, 'French_Civil_Aviation_University'),\n",
        " (222, 'Jared_Staal'),\n",
        " (222, 'Snail'),\n",
        " (221, 'Taj_Mahal'),\n",
        " (221, 'Only/Archive_2'),\n",
        " (221, 'Raphael'),\n",
        " (220, 'Wayne_Rooney'),\n",
        " (219, 'Nintendo'),\n",
        " (218, 'Nutritional_value'),\n",
        " (218, 'Muse_(band)'),\n",
        " (217, 'Serfdom'),\n",
        " (217, 'Geisha'),\n",
        " (216, 'Jazz'),\n",
        " (216, 'Dance'),\n",
        " (213, 'Cethegus'),\n",
        " (212, 'Tokyo'),\n",
        " (212, 'Requirements_for_very_good_articles'),\n",
        " (211, 'Did_you_know'),\n",
        " (211, 'Taylor_Swift'),\n",
        " (211, 'Racepacket'),\n",
        " (211, 'Call_of_Duty:_Modern_Warfare_2'),\n",
        " (211, 'Charmed'),\n",
        " (210, 'Angela'),\n",
        " (209, 'Language'),\n",
        " (209, 'Claimgoal'),\n",
        " (208, 'Seattle'),\n",
        " (208, 'Big_Weekend'),\n",
        " (208, 'Did_you_know/Queue/Time'),\n",
        " (208, 'Editor_review'),\n",
        " (208, 'War'),\n",
        " (207, 'Pending'),\n",
        " (205, 'Myles_Standish'),\n",
        " (204, 'Uncyclopedia'),\n",
        " (204, 'Barras/Archive_5'),\n",
        " (202, 'Orbital_hybridization')]"
       ]
      }
     ],
     "prompt_number": 29
    },
    {
     "cell_type": "markdown",
     "metadata": {},
     "source": [
      "#Query: Newcomer\n",
      "- number of new articles per month"
     ]
    },
    {
     "cell_type": "code",
     "collapsed": false,
     "input": [
      "r_projected = r.map( lambda x: (x[1], x[6]) ) # (page id, datetime) pairs"
     ],
     "language": "python",
     "metadata": {},
     "outputs": [],
     "prompt_number": 30
    },
    {
     "cell_type": "code",
     "collapsed": false,
     "input": [
      "creations = r_projected.reduceByKey( min )"
     ],
     "language": "python",
     "metadata": {},
     "outputs": [],
     "prompt_number": 31
    },
    {
     "cell_type": "code",
     "collapsed": false,
     "input": [
      "creation_months = creations.map( lambda x: x[1].strftime('%Y%m') ) # keep creation months only"
     ],
     "language": "python",
     "metadata": {},
     "outputs": [],
     "prompt_number": 32
    },
    {
     "cell_type": "code",
     "collapsed": false,
     "input": [
      "pages_per_month = creation_months.countByValue()"
     ],
     "language": "python",
     "metadata": {},
     "outputs": [],
     "prompt_number": 33
    },
    {
     "cell_type": "code",
     "collapsed": false,
     "input": [
      "# plot a figure\n",
      "month2articles = sorted( [ (int(k),v) for k,v in pages_per_month.iteritems() ] )\n",
      "plt.plot([v for k,v in month2articles], label='articles per month')\n",
      "plt.xlabel('time')\n",
      "plt.ylabel('count')\n",
      "plt.title('new articles over time')\n",
      "plt.yscale('log');\n",
      "tix = range(len(month2articles))[::24]\n",
      "plt.xticks( tix, [month2articles[i][0] for i in tix] );"
     ],
     "language": "python",
     "metadata": {},
     "outputs": [
      {
       "metadata": {},
       "output_type": "display_data",
       "png": "[encoded data removed]",
       "text": [
        "<matplotlib.figure.Figure at 0x7f742039fbd0>"
       ]
      }
     ],
     "prompt_number": 34
    },
    {
     "cell_type": "code",
     "collapsed": false,
     "input": [],
     "language": "python",
     "metadata": {},
     "outputs": []
    },
    {
     "cell_type": "markdown",
     "metadata": {},
     "source": [
      "#Query: Newcomer - Spark SQL\n",
      "- number of new articles per month"
     ]
    },
    {
     "cell_type": "code",
     "collapsed": false,
     "input": [
      "from pyspark.sql import SQLContext\n",
      "from pyspark.sql import Row\n",
      "\n",
      "sqlContext = SQLContext(sc)"
     ],
     "language": "python",
     "metadata": {},
     "outputs": [],
     "prompt_number": 35
    },
    {
     "cell_type": "code",
     "collapsed": false,
     "input": [
      "#r = r.filter(lambda x: not x is None)\n",
      "rows = r.map( lambda x: Row(rev_page=x[1], rev_date=x[6].replace(day=1, hour=0, minute=0, second=0)) )"
     ],
     "language": "python",
     "metadata": {},
     "outputs": [],
     "prompt_number": 36
    },
    {
     "cell_type": "code",
     "collapsed": false,
     "input": [
      "rows.count()"
     ],
     "language": "python",
     "metadata": {},
     "outputs": [
      {
       "metadata": {},
       "output_type": "pyout",
       "prompt_number": 37,
       "text": [
        "3114805"
       ]
      }
     ],
     "prompt_number": 37
    },
    {
     "cell_type": "code",
     "collapsed": false,
     "input": [
      "schemaRows = sqlContext.inferSchema(rows)"
     ],
     "language": "python",
     "metadata": {},
     "outputs": [],
     "prompt_number": 38
    },
    {
     "cell_type": "code",
     "collapsed": false,
     "input": [
      "schemaRows.registerTempTable(\"revisions\")"
     ],
     "language": "python",
     "metadata": {},
     "outputs": [],
     "prompt_number": 39
    },
    {
     "cell_type": "code",
     "collapsed": false,
     "input": [
      "result = sqlContext.sql(\"SELECT count(*) AS c, month FROM ( \\\n",
      "                            SELECT rev_page, MIN(rev_date) AS month FROM revisions GROUP BY rev_page \\\n",
      "                         ) t \\\n",
      "                         GROUP BY month \\\n",
      "                         ORDER BY c desc \\\n",
      "                         LIMIT 100 \")"
     ],
     "language": "python",
     "metadata": {},
     "outputs": [],
     "prompt_number": 40
    },
    {
     "cell_type": "code",
     "collapsed": false,
     "input": [
      "result.take(10)"
     ],
     "language": "python",
     "metadata": {},
     "outputs": [
      {
       "metadata": {},
       "output_type": "pyout",
       "prompt_number": 41,
       "text": [
        "[Row(c=9809, month=datetime.datetime(2009, 1, 1, 0, 0)),\n",
        " Row(c=4837, month=datetime.datetime(2008, 12, 1, 0, 0)),\n",
        " Row(c=4565, month=datetime.datetime(2012, 3, 1, 0, 0)),\n",
        " Row(c=4564, month=datetime.datetime(2012, 4, 1, 0, 0)),\n",
        " Row(c=4415, month=datetime.datetime(2009, 10, 1, 0, 0)),\n",
        " Row(c=4380, month=datetime.datetime(2008, 7, 1, 0, 0)),\n",
        " Row(c=4275, month=datetime.datetime(2010, 8, 1, 0, 0)),\n",
        " Row(c=4223, month=datetime.datetime(2013, 7, 1, 0, 0)),\n",
        " Row(c=4218, month=datetime.datetime(2007, 12, 1, 0, 0)),\n",
        " Row(c=4176, month=datetime.datetime(2013, 5, 1, 0, 0))]"
       ]
      }
     ],
     "prompt_number": 41
    },
    {
     "cell_type": "code",
     "collapsed": false,
     "input": [],
     "language": "python",
     "metadata": {},
     "outputs": []
    }
   ],
   "metadata": {}
  }
 ]
}